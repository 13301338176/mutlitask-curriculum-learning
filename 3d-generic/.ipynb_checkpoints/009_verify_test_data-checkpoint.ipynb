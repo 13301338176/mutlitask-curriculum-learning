{
 "cells": [
  {
   "cell_type": "code",
   "execution_count": null,
   "metadata": {},
   "outputs": [],
   "source": [
    "\"\"\"\n",
    "This notebook can be used to look at the individual test samples generated and possibly filter\n",
    "them out to get a refined test set.\n",
    "\"\"\"\n",
    "import os\n",
    "import pdb\n",
    "import random\n",
    "import numpy as np\n",
    "from PIL import Image\n",
    "import matplotlib.pyplot as plt\n",
    "\n",
    "%matplotlib inline\n",
    "plt.rcParams[\"figure.figsize\"] = (20,3)\n",
    "\n",
    "# Set seed for reproducability\n",
    "random.seed(123)\n",
    "\"\"\"\n",
    "Group the matches into categories of \n",
    " (0) beta < 30\n",
    " (1) beta < 60\n",
    " (2) beta < 90\n",
    " (3) beta < 120\n",
    " (4) all other beta \n",
    "\"\"\"\n",
    "\n",
    "def category_assignment(beta):\n",
    "    category = 0\n",
    "    if beta < 30:\n",
    "        category = 0\n",
    "    elif beta < 60:\n",
    "        category = 1\n",
    "    elif beta < 90:\n",
    "        category = 2\n",
    "    elif beta < 120:\n",
    "        category = 3\n",
    "    else:\n",
    "        category = 4\n",
    "    return category"
   ]
  },
  {
   "cell_type": "code",
   "execution_count": null,
   "metadata": {},
   "outputs": [],
   "source": [
    "test_dir = 'dataset/test/regTest/'\n",
    "data = {0: [], 1: [], 2: [], 3: [], 4: []}\n",
    "data_string = {0: [], 1: [], 2: [], 3: [], 4: []}\n",
    "category_stats = {0: 0, 1: 0, 2: 0, 3: 0, 4: 0}\n",
    "with open(os.path.join(test_dir, 'regpairs_positive.txt'), 'r') as inFile:\n",
    "    for line in inFile:\n",
    "        # 0: <imgA>, 1: <imgB>, 2: <match or no match>, 3: <relative heading degrees> \n",
    "        # 4: <relative pitch degrees>, 5: <relative roll degrees>, 6: <relative longitual translation meters> \n",
    "        # 7: <relative lateral translation meters>, 8: <relative height meters> \n",
    "        # 9: <baseline angle in degrees> 10: <distance between targets>\n",
    "        data_curr = line.strip().split()\n",
    "        data_curr = [data_curr[0], data_curr[1], int(data_curr[2]), float(data_curr[3]), float(data_curr[4]), \\\n",
    "                     float(data_curr[5]), float(data_curr[6]), float(data_curr[7]), float(data_curr[8]), \\\n",
    "                     float(data_curr[9]), float(data_curr[10])]\n",
    "        category_curr = category_assignment(data_curr[9])\n",
    "        category_stats[category_curr] += 1\n",
    "        data[category_curr].append(data_curr)\n",
    "        data_string[category_curr].append(line.strip())\n",
    "\n",
    "print('---------------------------------')\n",
    "print('Category statistics in test data')\n",
    "print('---------------------------------')\n",
    "for k, v in category_stats.iteritems():\n",
    "    print('Category: %d        # Samples: %5d'%(k, v))\n"
   ]
  },
  {
   "cell_type": "code",
   "execution_count": null,
   "metadata": {},
   "outputs": [],
   "source": [
    "\"\"\"\n",
    "Some sample images plotted for visual inspection\n",
    "\"\"\"\n",
    "for k in data:\n",
    "    print('\\n======== In level %d =======\\n'%(k))\n",
    "    for i in range(10):\n",
    "        idx = random.randint(0, len(data[k]))\n",
    "        img_0 = Image.open(os.path.join('dataset/test/regTest/data/', data[k][idx][0]))\n",
    "        img_1 = Image.open(os.path.join('dataset/test/regTest/data/', data[k][idx][1]))\n",
    "        imgs = [img_0, img_1]\n",
    "        widths, heights = zip(*(i.size for i in imgs))\n",
    "        total_width = sum(widths)\n",
    "        max_height = max(heights)\n",
    "        new_im = Image.new('RGB', (total_width, max_height))\n",
    "        x_offset = 0\n",
    "        for im in imgs:\n",
    "            new_im.paste(im, (x_offset, 0))\n",
    "            x_offset += im.size[0]\n",
    "        plt.imshow(np.asarray(new_im))\n",
    "        print('RP: %5.2f, %5.2f, %5.2f   RT: %4.2f, %4.2f, %4.2f    BA: %5.2f'\\\n",
    "              %(data[k][idx][3], data[k][idx][4], data[k][idx][5], \\\n",
    "                data[k][idx][6], data[k][idx][7], data[k][idx][8], data[k][idx][9]))\n",
    "        plt.show()"
   ]
  },
  {
   "cell_type": "code",
   "execution_count": null,
   "metadata": {
    "scrolled": true
   },
   "outputs": [],
   "source": [
    "\"\"\"\n",
    "Sample 1000 images randomly from each set and use them for the final test set.\n",
    "Not based on visual inspection to save time.\n",
    "\"\"\"\n",
    "out_file = open(os.path.join(test_dir, 'regpairs_positive_refined.txt'), 'w')\n",
    "for k in data:\n",
    "    idxs = random.sample(range(0, len(data[k])), 1000)\n",
    "    for idx in idxs:\n",
    "        out_file.write(data_string[k][idx] + '\\n')\n",
    "out_file.close()\n",
    "    "
   ]
  },
  {
   "cell_type": "code",
   "execution_count": null,
   "metadata": {},
   "outputs": [],
   "source": []
  }
 ],
 "metadata": {
  "kernelspec": {
   "display_name": "Python 2",
   "language": "python",
   "name": "python2"
  },
  "language_info": {
   "codemirror_mode": {
    "name": "ipython",
    "version": 2
   },
   "file_extension": ".py",
   "mimetype": "text/x-python",
   "name": "python",
   "nbconvert_exporter": "python",
   "pygments_lexer": "ipython2",
   "version": "2.7.12"
  }
 },
 "nbformat": 4,
 "nbformat_minor": 2
}
